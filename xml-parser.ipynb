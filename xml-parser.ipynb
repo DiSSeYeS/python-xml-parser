{
 "cells": [
  {
   "cell_type": "code",
   "execution_count": 109,
   "id": "fa968685",
   "metadata": {},
   "outputs": [
    {
     "name": "stdout",
     "output_type": "stream",
     "text": [
      "1 : (64.0, 913.0, 26.0, 929.0)\n",
      "1 : (827.0, 1230.0, 1.0, 960.0)\n",
      "1 : (4.0, 1168.0, 4.0, 938.0)\n",
      "{'001079.xml': {1: (64.0, 913.0, 26.0, 929.0)}, '001092.xml': {1: (827.0, 1230.0, 1.0, 960.0)}, '001099.xml': {1: (4.0, 1168.0, 4.0, 938.0)}}\n"
     ]
    }
   ],
   "source": [
    "import xml.etree.ElementTree as ET\n",
    "import os\n",
    "dictionary = {}\n",
    "for file in os.listdir('C:/Users/217104/Desktop/dataset/'): # в скобках нужно указать путь, откуда мы будем брать xml-файлы\n",
    "    tree = ET.parse('C:/Users/217104/Desktop/dataset/'+file) # выбираем нужный нам xml-файл, откуда собираемся брать координаты\n",
    "    root = tree.getroot()\n",
    "    xmax, xmin, ymax, ymin = [], [], [], [] # создаем переменные, где будут храниться максимумы и минимумы координат\n",
    "    for data in root.iter('bndbox'):        # проходимся по всему, что содержится в bndbox\n",
    "        for item in data:                   # проходимся по тому, что содержится в итерируемом элементе\n",
    "            if item.tag in vars():          # во избежание возникновения проблем в eval(), проверяем обозначали ли мы такую переменную\n",
    "                eval(item.tag).append(float(item.text)) # так как переменные названы как тэги, с помощью eval() вызываем эту переменную и пополняем ее на текст итерируемого элеметна, в нашем случае - координаты\n",
    "    d = {i+1 : list(zip(xmin, xmax, ymin, ymax))[i] for i in range(len(xmax))} # создаем словарь, где ключ - это номер координат, а значение - это кортеж координат\n",
    "    for c in d.items(): # проходимся по словарю и выводим все элементы\n",
    "        print(f'{c[0]} : {c[1]}')\n",
    "    dictionary[file] = d # берем прошлый словарь как подсловарь большого словаря, где ключи - это имена файлов\n",
    "print(dictionary) # выводим общий словарь"
   ]
  }
 ],
 "metadata": {
  "kernelspec": {
   "display_name": "Python 3",
   "language": "python",
   "name": "python3"
  },
  "language_info": {
   "codemirror_mode": {
    "name": "ipython",
    "version": 3
   },
   "file_extension": ".py",
   "mimetype": "text/x-python",
   "name": "python",
   "nbconvert_exporter": "python",
   "pygments_lexer": "ipython3",
   "version": "3.8.8"
  }
 },
 "nbformat": 4,
 "nbformat_minor": 5
}
